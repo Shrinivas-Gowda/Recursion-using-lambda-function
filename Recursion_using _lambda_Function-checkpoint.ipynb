{
 "cells": [
  {
   "cell_type": "code",
   "execution_count": 1,
   "id": "104704cc-7752-49c5-ae6d-db5c8c36659d",
   "metadata": {},
   "outputs": [
    {
     "name": "stdin",
     "output_type": "stream",
     "text": [
      " 6\n"
     ]
    },
    {
     "name": "stdout",
     "output_type": "stream",
     "text": [
      "720\n"
     ]
    }
   ],
   "source": [
    "factorial=lambda x : x*factorial(x-1) if x>1 else 1\n",
    "print(factorial(int(input())))"
   ]
  },
  {
   "cell_type": "code",
   "execution_count": 2,
   "id": "e77345eb-bfa0-4211-9f9c-c19da2b22f25",
   "metadata": {},
   "outputs": [
    {
     "name": "stdin",
     "output_type": "stream",
     "text": [
      " 123456\n"
     ]
    },
    {
     "name": "stdout",
     "output_type": "stream",
     "text": [
      "6\n"
     ]
    }
   ],
   "source": [
    "count=lambda x : 1+count(x//10) if x!=0 else 0\n",
    "print(count(int(input())))"
   ]
  },
  {
   "cell_type": "code",
   "execution_count": 3,
   "id": "77eb579a-2dac-4fe6-9b1f-275b9e7fe873",
   "metadata": {},
   "outputs": [
    {
     "name": "stdin",
     "output_type": "stream",
     "text": [
      " 135\n"
     ]
    },
    {
     "name": "stdout",
     "output_type": "stream",
     "text": [
      "Disarum number\n"
     ]
    }
   ],
   "source": [
    "DisArum=lambda x : (x%10)**len(str(x)) + DisArum(x//10) if x!=0 else 0\n",
    "num=int(input())\n",
    "print('Disarum number') if (DisArum(num))==num else print('Not a Disarum number')"
   ]
  },
  {
   "cell_type": "code",
   "execution_count": 4,
   "id": "e1dc1551-28fc-475b-aebe-41c5bfe1183a",
   "metadata": {},
   "outputs": [
    {
     "name": "stdin",
     "output_type": "stream",
     "text": [
      " 153\n"
     ]
    },
    {
     "name": "stdout",
     "output_type": "stream",
     "text": [
      "Armstrong\n"
     ]
    }
   ],
   "source": [
    "ArmStrong=lambda x,p : (x%10)**p + ArmStrong(x//10,p) if x!=0 else 0\n",
    "num=int(input())\n",
    "print('Armstrong') if ArmStrong(num,len(str(num)))==num else print('Not Armstrong')"
   ]
  },
  {
   "cell_type": "code",
   "execution_count": 5,
   "id": "4813e3a1-33fe-401c-aa5f-8fb74e3f107e",
   "metadata": {},
   "outputs": [
    {
     "name": "stdin",
     "output_type": "stream",
     "text": [
      " ABCDEF\n"
     ]
    },
    {
     "name": "stdout",
     "output_type": "stream",
     "text": [
      "FEDCBA\n"
     ]
    }
   ],
   "source": [
    "RevString=lambda x, i : x[i] + RevString(x,i-1) if i!=-(len(x)+1) else ''\n",
    "print(RevString(input(),-1))"
   ]
  },
  {
   "cell_type": "code",
   "execution_count": 6,
   "id": "ee4fa694-bf24-4972-92d1-5ae1f43ac77d",
   "metadata": {},
   "outputs": [
    {
     "name": "stdin",
     "output_type": "stream",
     "text": [
      " 123456\n"
     ]
    },
    {
     "name": "stdout",
     "output_type": "stream",
     "text": [
      "654321\n"
     ]
    }
   ],
   "source": [
    "RevNum=lambda x : (x%10) * (10**(len(str(x))-1)) + RevNum(x//10) if x!=0 else 0\n",
    "print(RevNum(int(input())))"
   ]
  },
  {
   "cell_type": "code",
   "execution_count": null,
   "id": "fd8ceb06-3f4f-4800-aedc-cf52e219434d",
   "metadata": {},
   "outputs": [],
   "source": []
  }
 ],
 "metadata": {
  "kernelspec": {
   "display_name": "Python 3 (ipykernel)",
   "language": "python",
   "name": "python3"
  },
  "language_info": {
   "codemirror_mode": {
    "name": "ipython",
    "version": 3
   },
   "file_extension": ".py",
   "mimetype": "text/x-python",
   "name": "python",
   "nbconvert_exporter": "python",
   "pygments_lexer": "ipython3",
   "version": "3.9.13"
  }
 },
 "nbformat": 4,
 "nbformat_minor": 5
}
